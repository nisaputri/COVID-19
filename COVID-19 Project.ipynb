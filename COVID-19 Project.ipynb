{
 "cells": [
  {
   "cell_type": "code",
   "execution_count": 2,
   "metadata": {},
   "outputs": [],
   "source": [
    "#importing the pandas library\n",
    "import pandas as pd"
   ]
  },
  {
   "cell_type": "code",
   "execution_count": 9,
   "metadata": {
    "scrolled": true
   },
   "outputs": [
    {
     "name": "stdout",
     "output_type": "stream",
     "text": [
      "<class 'pandas.core.frame.DataFrame'>\n",
      "RangeIndex: 19814 entries, 0 to 19813\n",
      "Data columns (total 5 columns):\n",
      "date      19814 non-null object\n",
      "state     19814 non-null object\n",
      "fips      19814 non-null int64\n",
      "cases     19814 non-null int64\n",
      "deaths    19814 non-null int64\n",
      "dtypes: int64(3), object(2)\n",
      "memory usage: 774.1+ KB\n",
      "<class 'pandas.core.frame.DataFrame'>\n",
      "RangeIndex: 2493 entries, 0 to 2492\n",
      "Data columns (total 14 columns):\n",
      "date                                   2493 non-null object\n",
      "location                               2493 non-null object\n",
      "total_vaccinations                     2223 non-null float64\n",
      "total_distributed                      2179 non-null float64\n",
      "people_vaccinated                      2167 non-null float64\n",
      "people_fully_vaccinated_per_hundred    1953 non-null float64\n",
      "total_vaccinations_per_hundred         2055 non-null float64\n",
      "people_fully_vaccinated                2085 non-null float64\n",
      "people_vaccinated_per_hundred          2030 non-null float64\n",
      "distributed_per_hundred                2042 non-null float64\n",
      "daily_vaccinations_raw                 2428 non-null float64\n",
      "daily_vaccinations                     2428 non-null float64\n",
      "daily_vaccinations_per_million         2245 non-null float64\n",
      "share_doses_used                       2179 non-null float64\n",
      "dtypes: float64(12), object(2)\n",
      "memory usage: 272.8+ KB\n"
     ]
    }
   ],
   "source": [
    "covid_cases = pd.read_csv('us-states.csv')\n",
    "covid_vac = pd.read_csv('us_state_vaccinations.csv')\n",
    "\n",
    "covid_cases.info()\n",
    "covid_vac.info()"
   ]
  },
  {
   "cell_type": "code",
   "execution_count": null,
   "metadata": {},
   "outputs": [],
   "source": []
  }
 ],
 "metadata": {
  "kernelspec": {
   "display_name": "Python 3",
   "language": "python",
   "name": "python3"
  },
  "language_info": {
   "codemirror_mode": {
    "name": "ipython",
    "version": 3
   },
   "file_extension": ".py",
   "mimetype": "text/x-python",
   "name": "python",
   "nbconvert_exporter": "python",
   "pygments_lexer": "ipython3",
   "version": "3.7.3"
  }
 },
 "nbformat": 4,
 "nbformat_minor": 2
}
